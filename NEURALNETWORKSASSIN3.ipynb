{
  "nbformat": 4,
  "nbformat_minor": 0,
  "metadata": {
    "colab": {
      "provenance": []
    },
    "kernelspec": {
      "name": "python3",
      "display_name": "Python 3"
    },
    "language_info": {
      "name": "python"
    }
  },
  "cells": [
    {
      "cell_type": "code",
      "execution_count": 3,
      "metadata": {
        "colab": {
          "base_uri": "https://localhost:8080/"
        },
        "id": "TdaUTChaC7B0",
        "outputId": "894bbe4e-b58a-423c-cf16-92fe4b1cbb9b"
      },
      "outputs": [
        {
          "output_type": "stream",
          "name": "stdout",
          "text": [
            "Number of employees: 5\n",
            "Average salary: 78000.0\n"
          ]
        }
      ],
      "source": [
        "class Employee:\n",
        "    employee_count = 0\n",
        "\n",
        "    def __init__(self, name, family, salary, department):\n",
        "        self.name = name\n",
        "        self.family = family\n",
        "        self.salary = salary\n",
        "        self.department = department\n",
        "        Employee.employee_count += 1\n",
        "\n",
        "    @staticmethod\n",
        "    def average_salary(employees):\n",
        "        total_salary = sum(emp.salary for emp in employees)\n",
        "        return total_salary / len(employees)\n",
        "\n",
        "class FulltimeEmployee(Employee):\n",
        "    def __init__(self, name, family, salary, department, role):\n",
        "        super().__init__(name, family, salary, department)\n",
        "        self.role = role\n",
        "\n",
        "\n",
        "emp1 = Employee(\"charan\", \"Family A\", 60000, \"LEAD\")\n",
        "emp2 = Employee(\"venkat\", \"Family B\", 75000, \"Engineering\")\n",
        "emp3 = Employee(\"phani\", \"Family C\", 80000, \"Marketing\")\n",
        "\n",
        "ft_emp1 = FulltimeEmployee(\"NAGA\", \"Family D\", 90000, \"Sales\", \"Manager\")\n",
        "ft_emp2 = FulltimeEmployee(\"HARSHA\", \"Family E\", 85000, \"IT\", \"Developer\")\n",
        "\n",
        "employees = [emp1, emp2, emp3, ft_emp1, ft_emp2]\n",
        "avg_salary = Employee.average_salary(employees)\n",
        "\n",
        "print(\"Number of employees:\", Employee.employee_count)\n",
        "print(\"Average salary:\", avg_salary)\n"
      ]
    },
    {
      "cell_type": "code",
      "source": [
        "import numpy as np\n",
        "random_vector = np.random.uniform(1, 20, 20)\n",
        "reshaped_array = random_vector.reshape(4, 5)\n",
        "reshaped_array[np.arange(reshaped_array.shape[0]), reshaped_array.argmax(axis=1)] = 0\n",
        "print(reshaped_array)\n"
      ],
      "metadata": {
        "colab": {
          "base_uri": "https://localhost:8080/"
        },
        "id": "0PqWvIJ2Dry1",
        "outputId": "b6c4113a-3270-4fbf-d4ff-c62da8685c04"
      },
      "execution_count": 4,
      "outputs": [
        {
          "output_type": "stream",
          "name": "stdout",
          "text": [
            "[[ 0.          7.96133423 11.01167088 11.41322144  1.92358388]\n",
            " [14.64722696  0.         14.60663651  1.35024343 14.77316063]\n",
            " [ 0.          2.28721675  9.51760402  6.634337    3.19968217]\n",
            " [ 0.         14.8337744   5.43368534 10.0189228   6.62714128]]\n"
          ]
        }
      ]
    }
  ]
}